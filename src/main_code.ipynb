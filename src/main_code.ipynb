{
 "cells": [
  {
   "cell_type": "markdown",
   "source": [
    "# Import"
   ],
   "metadata": {
    "collapsed": false
   }
  },
  {
   "cell_type": "code",
   "execution_count": 81,
   "outputs": [],
   "source": [
    "import pandas as pd\n",
    "from pathlib import  Path\n",
    "import  matplotlib.pyplot as plt\n",
    "from sklearn.linear_model import LinearRegression\n",
    "from sklearn.model_selection import train_test_split\n",
    "from sklearn.preprocessing import LabelEncoder\n",
    "from sklearn.metrics import mean_squared_error, mean_absolute_error\n",
    "from sklearn.preprocessing import StandardScaler\n",
    "import matplotlib.pyplot as plt\n",
    "import  numpy as np\n",
    "from sklearn.preprocessing import MinMaxScaler\n",
    "import xgboost as xgb\n",
    "from sklearn.metrics import r2_score"
   ],
   "metadata": {
    "collapsed": false
   }
  },
  {
   "cell_type": "markdown",
   "source": [
    "# Path and Read File"
   ],
   "metadata": {
    "collapsed": false
   }
  },
  {
   "cell_type": "code",
   "execution_count": 39,
   "outputs": [
    {
     "data": {
      "text/plain": "     Area  Room  Parking  Warehouse  Elevator             Address  \\\n0      63     1     True       True      True             Shahran   \n1      60     1     True       True      True             Shahran   \n2      79     2     True       True      True              Pardis   \n3      95     2     True       True      True       Shahrake Qods   \n4     123     2     True       True      True      Shahrake Gharb   \n...   ...   ...      ...        ...       ...                 ...   \n3474   86     2     True       True      True  Southern Janatabad   \n3475   83     2     True       True      True            Niavaran   \n3476   75     2    False      False     False              Parand   \n3477  105     2     True       True      True              Dorous   \n3478   82     2    False       True      True              Parand   \n\n             Price  Price(USD)  \n0     1.850000e+09    61666.67  \n1     1.850000e+09    61666.67  \n2     5.500000e+08    18333.33  \n3     9.025000e+08    30083.33  \n4     7.000000e+09   233333.33  \n...            ...         ...  \n3474  3.500000e+09   116666.67  \n3475  6.800000e+09   226666.67  \n3476  3.650000e+08    12166.67  \n3477  5.600000e+09   186666.67  \n3478  3.600000e+08    12000.00  \n\n[3479 rows x 8 columns]",
      "text/html": "<div>\n<style scoped>\n    .dataframe tbody tr th:only-of-type {\n        vertical-align: middle;\n    }\n\n    .dataframe tbody tr th {\n        vertical-align: top;\n    }\n\n    .dataframe thead th {\n        text-align: right;\n    }\n</style>\n<table border=\"1\" class=\"dataframe\">\n  <thead>\n    <tr style=\"text-align: right;\">\n      <th></th>\n      <th>Area</th>\n      <th>Room</th>\n      <th>Parking</th>\n      <th>Warehouse</th>\n      <th>Elevator</th>\n      <th>Address</th>\n      <th>Price</th>\n      <th>Price(USD)</th>\n    </tr>\n  </thead>\n  <tbody>\n    <tr>\n      <th>0</th>\n      <td>63</td>\n      <td>1</td>\n      <td>True</td>\n      <td>True</td>\n      <td>True</td>\n      <td>Shahran</td>\n      <td>1.850000e+09</td>\n      <td>61666.67</td>\n    </tr>\n    <tr>\n      <th>1</th>\n      <td>60</td>\n      <td>1</td>\n      <td>True</td>\n      <td>True</td>\n      <td>True</td>\n      <td>Shahran</td>\n      <td>1.850000e+09</td>\n      <td>61666.67</td>\n    </tr>\n    <tr>\n      <th>2</th>\n      <td>79</td>\n      <td>2</td>\n      <td>True</td>\n      <td>True</td>\n      <td>True</td>\n      <td>Pardis</td>\n      <td>5.500000e+08</td>\n      <td>18333.33</td>\n    </tr>\n    <tr>\n      <th>3</th>\n      <td>95</td>\n      <td>2</td>\n      <td>True</td>\n      <td>True</td>\n      <td>True</td>\n      <td>Shahrake Qods</td>\n      <td>9.025000e+08</td>\n      <td>30083.33</td>\n    </tr>\n    <tr>\n      <th>4</th>\n      <td>123</td>\n      <td>2</td>\n      <td>True</td>\n      <td>True</td>\n      <td>True</td>\n      <td>Shahrake Gharb</td>\n      <td>7.000000e+09</td>\n      <td>233333.33</td>\n    </tr>\n    <tr>\n      <th>...</th>\n      <td>...</td>\n      <td>...</td>\n      <td>...</td>\n      <td>...</td>\n      <td>...</td>\n      <td>...</td>\n      <td>...</td>\n      <td>...</td>\n    </tr>\n    <tr>\n      <th>3474</th>\n      <td>86</td>\n      <td>2</td>\n      <td>True</td>\n      <td>True</td>\n      <td>True</td>\n      <td>Southern Janatabad</td>\n      <td>3.500000e+09</td>\n      <td>116666.67</td>\n    </tr>\n    <tr>\n      <th>3475</th>\n      <td>83</td>\n      <td>2</td>\n      <td>True</td>\n      <td>True</td>\n      <td>True</td>\n      <td>Niavaran</td>\n      <td>6.800000e+09</td>\n      <td>226666.67</td>\n    </tr>\n    <tr>\n      <th>3476</th>\n      <td>75</td>\n      <td>2</td>\n      <td>False</td>\n      <td>False</td>\n      <td>False</td>\n      <td>Parand</td>\n      <td>3.650000e+08</td>\n      <td>12166.67</td>\n    </tr>\n    <tr>\n      <th>3477</th>\n      <td>105</td>\n      <td>2</td>\n      <td>True</td>\n      <td>True</td>\n      <td>True</td>\n      <td>Dorous</td>\n      <td>5.600000e+09</td>\n      <td>186666.67</td>\n    </tr>\n    <tr>\n      <th>3478</th>\n      <td>82</td>\n      <td>2</td>\n      <td>False</td>\n      <td>True</td>\n      <td>True</td>\n      <td>Parand</td>\n      <td>3.600000e+08</td>\n      <td>12000.00</td>\n    </tr>\n  </tbody>\n</table>\n<p>3479 rows × 8 columns</p>\n</div>"
     },
     "execution_count": 39,
     "metadata": {},
     "output_type": "execute_result"
    }
   ],
   "source": [
    "DATA_DIR=Path(\"../data/houseprice.csv\")\n",
    "data=pd.read_csv(DATA_DIR)\n",
    "data"
   ],
   "metadata": {
    "collapsed": false
   }
  },
  {
   "cell_type": "markdown",
   "source": [
    "# Data Cleaning"
   ],
   "metadata": {
    "collapsed": false
   }
  },
  {
   "cell_type": "code",
   "execution_count": 40,
   "outputs": [],
   "source": [
    "def extract_neighborhood(address):\n",
    "    parts = address.split(',')\n",
    "    if len(parts) > 0:\n",
    "        return parts[0].strip()\n",
    "    else:\n",
    "        return 0"
   ],
   "metadata": {
    "collapsed": false
   }
  },
  {
   "cell_type": "code",
   "execution_count": 79,
   "outputs": [
    {
     "data": {
      "text/plain": "       Area  Room  Parking  Warehouse  Elevator  Price(USD)  Address_Rank\n0      63.0     1        1          1         1    61666.67           102\n1      60.0     1        1          1         1    61666.67           102\n2      79.0     2        1          1         1    18333.33            17\n3      95.0     2        1          1         1    30083.33            28\n4     123.0     2        1          1         1   233333.33           182\n...     ...   ...      ...        ...       ...         ...           ...\n3474   86.0     2        1          1         1   116666.67           110\n3475   83.0     2        1          1         1   226666.67           184\n3476   75.0     2        0          0         0    12166.67             7\n3477  105.0     2        1          1         1   186666.67           178\n3478   82.0     2        0          1         1    12000.00             7\n\n[3212 rows x 7 columns]",
      "text/html": "<div>\n<style scoped>\n    .dataframe tbody tr th:only-of-type {\n        vertical-align: middle;\n    }\n\n    .dataframe tbody tr th {\n        vertical-align: top;\n    }\n\n    .dataframe thead th {\n        text-align: right;\n    }\n</style>\n<table border=\"1\" class=\"dataframe\">\n  <thead>\n    <tr style=\"text-align: right;\">\n      <th></th>\n      <th>Area</th>\n      <th>Room</th>\n      <th>Parking</th>\n      <th>Warehouse</th>\n      <th>Elevator</th>\n      <th>Price(USD)</th>\n      <th>Address_Rank</th>\n    </tr>\n  </thead>\n  <tbody>\n    <tr>\n      <th>0</th>\n      <td>63.0</td>\n      <td>1</td>\n      <td>1</td>\n      <td>1</td>\n      <td>1</td>\n      <td>61666.67</td>\n      <td>102</td>\n    </tr>\n    <tr>\n      <th>1</th>\n      <td>60.0</td>\n      <td>1</td>\n      <td>1</td>\n      <td>1</td>\n      <td>1</td>\n      <td>61666.67</td>\n      <td>102</td>\n    </tr>\n    <tr>\n      <th>2</th>\n      <td>79.0</td>\n      <td>2</td>\n      <td>1</td>\n      <td>1</td>\n      <td>1</td>\n      <td>18333.33</td>\n      <td>17</td>\n    </tr>\n    <tr>\n      <th>3</th>\n      <td>95.0</td>\n      <td>2</td>\n      <td>1</td>\n      <td>1</td>\n      <td>1</td>\n      <td>30083.33</td>\n      <td>28</td>\n    </tr>\n    <tr>\n      <th>4</th>\n      <td>123.0</td>\n      <td>2</td>\n      <td>1</td>\n      <td>1</td>\n      <td>1</td>\n      <td>233333.33</td>\n      <td>182</td>\n    </tr>\n    <tr>\n      <th>...</th>\n      <td>...</td>\n      <td>...</td>\n      <td>...</td>\n      <td>...</td>\n      <td>...</td>\n      <td>...</td>\n      <td>...</td>\n    </tr>\n    <tr>\n      <th>3474</th>\n      <td>86.0</td>\n      <td>2</td>\n      <td>1</td>\n      <td>1</td>\n      <td>1</td>\n      <td>116666.67</td>\n      <td>110</td>\n    </tr>\n    <tr>\n      <th>3475</th>\n      <td>83.0</td>\n      <td>2</td>\n      <td>1</td>\n      <td>1</td>\n      <td>1</td>\n      <td>226666.67</td>\n      <td>184</td>\n    </tr>\n    <tr>\n      <th>3476</th>\n      <td>75.0</td>\n      <td>2</td>\n      <td>0</td>\n      <td>0</td>\n      <td>0</td>\n      <td>12166.67</td>\n      <td>7</td>\n    </tr>\n    <tr>\n      <th>3477</th>\n      <td>105.0</td>\n      <td>2</td>\n      <td>1</td>\n      <td>1</td>\n      <td>1</td>\n      <td>186666.67</td>\n      <td>178</td>\n    </tr>\n    <tr>\n      <th>3478</th>\n      <td>82.0</td>\n      <td>2</td>\n      <td>0</td>\n      <td>1</td>\n      <td>1</td>\n      <td>12000.00</td>\n      <td>7</td>\n    </tr>\n  </tbody>\n</table>\n<p>3212 rows × 7 columns</p>\n</div>"
     },
     "execution_count": 79,
     "metadata": {},
     "output_type": "execute_result"
    }
   ],
   "source": [
    "data[\"Area\"]=pd.to_numeric(data[\"Area\"],errors='coerce')\n",
    "data[\"Area\"]=data[\"Area\"].dropna()\n",
    "data[\"Area\"]=data[\"Area\"].astype(float)\n",
    "df_area=data[\"Area\"]\n",
    "Q1=df_area.quantile(0.25)\n",
    "Q3=df_area.quantile(0.75)\n",
    "IQR=Q3-Q1\n",
    "lower_bound = Q1 - 1.5 * IQR\n",
    "upper_bound = Q3 + 1.5 * IQR\n",
    "data_clean=data[(data[\"Area\"] >= lower_bound) & (data[\"Area\"] <= upper_bound)]\n",
    "\n",
    "\n",
    "data_clean=data_clean.dropna()\n",
    "data_clean = data_clean.drop(\"Price\",axis=1)\n",
    "\n",
    "# data_clean[\"Address\"]=data_clean[\"Address\"].apply(lambda x:extract_neighborhood(x))\n",
    "# data_clean=pd.get_dummies(data_clean,columns=[\"Address\"])\n",
    "\n",
    "\n",
    "addresses=data_clean[\"Address\"]\n",
    "neighborhoods = [extract_neighborhood(addr) for addr in addresses]\n",
    "le = LabelEncoder()\n",
    "neighborhoods_encoded = le.fit_transform(neighborhoods)\n",
    "\n",
    "data_clean[\"Address\"]=neighborhoods_encoded\n",
    "data_clean[\"Parking\"]=data_clean[\"Parking\"].astype(int)\n",
    "data_clean[\"Warehouse\"]=data_clean[\"Warehouse\"].astype(int)\n",
    "data_clean[\"Elevator\"]=data_clean[\"Elevator\"].astype(int)\n",
    "\n",
    "\n",
    "\n",
    "address_price_mean = data_clean.groupby('Address')['Price(USD)'].mean().sort_values(ascending=True)\n",
    "address_ranking = {address: rank for rank, address in enumerate(address_price_mean.index, 1)}\n",
    "data_clean['Address_Rank'] = data_clean['Address'].map(address_ranking)\n",
    "data_clean.drop('Address', axis=1, inplace=True)\n",
    "\n",
    "\n",
    "data_clean"
   ],
   "metadata": {
    "collapsed": false
   }
  },
  {
   "cell_type": "markdown",
   "source": [
    "# Train and Test"
   ],
   "metadata": {
    "collapsed": false
   }
  },
  {
   "cell_type": "code",
   "execution_count": 80,
   "outputs": [],
   "source": [
    "data_y=data_clean[\"Price(USD)\"]\n",
    "data_x=data_clean.drop(\"Price(USD)\",axis=1)\n",
    "X_train, X_test, y_train, y_test = train_test_split(data_x, data_y, test_size=0.3, random_state=101)"
   ],
   "metadata": {
    "collapsed": false
   }
  },
  {
   "cell_type": "markdown",
   "source": [
    "# Model fit"
   ],
   "metadata": {
    "collapsed": false
   }
  },
  {
   "cell_type": "code",
   "execution_count": 102,
   "outputs": [],
   "source": [
    "scaler = MinMaxScaler()\n",
    "X_train_scaled = scaler.fit_transform(X_train)\n",
    "X_test_scaled = scaler.transform(X_test)\n",
    "\n",
    "X_train_scaled[0]=X_train_scaled[0]*0.35  #area\n",
    "X_train_scaled[1]=X_train_scaled[1]*0.025   #room\n",
    "X_train_scaled[2]=X_train_scaled[2]*0.05   #parking\n",
    "X_train_scaled[3]=X_train_scaled[3]*0.025   #warehouse\n",
    "X_train_scaled[4]=X_train_scaled[4]*0.05   #elevator\n",
    "X_train_scaled[5]=X_train_scaled[5]*0.50   #addrees rank\n",
    "\n",
    "y_train_log = np.log(y_train)\n",
    "\n",
    "model = xgb.XGBRegressor(objective='reg:squarederror')\n",
    "model.fit(X_train_scaled, y_train_log)\n",
    "y_pred_log = model.predict(X_test_scaled)\n",
    "y_pred = np.exp(y_pred_log)\n"
   ],
   "metadata": {
    "collapsed": false
   }
  },
  {
   "cell_type": "code",
   "execution_count": 103,
   "outputs": [
    {
     "name": "stdout",
     "output_type": "stream",
     "text": [
      "R²: 0.8317763225838568\n"
     ]
    }
   ],
   "source": [
    "print(f\"R²: {r2_score(y_test, y_pred)}\")"
   ],
   "metadata": {
    "collapsed": false
   }
  },
  {
   "cell_type": "code",
   "execution_count": null,
   "outputs": [],
   "source": [
    "print(\"salam\")"
   ],
   "metadata": {
    "collapsed": false
   }
  }
 ],
 "metadata": {
  "kernelspec": {
   "display_name": "Python 3",
   "language": "python",
   "name": "python3"
  },
  "language_info": {
   "codemirror_mode": {
    "name": "ipython",
    "version": 2
   },
   "file_extension": ".py",
   "mimetype": "text/x-python",
   "name": "python",
   "nbconvert_exporter": "python",
   "pygments_lexer": "ipython2",
   "version": "2.7.6"
  }
 },
 "nbformat": 4,
 "nbformat_minor": 0
}
