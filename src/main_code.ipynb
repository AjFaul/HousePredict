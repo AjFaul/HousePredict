{
 "cells": [
  {
   "cell_type": "markdown",
   "source": [
    "# Import"
   ],
   "metadata": {
    "collapsed": false
   }
  },
  {
   "cell_type": "code",
   "execution_count": 117,
   "outputs": [],
   "source": [
    "import pandas as pd\n",
    "from pathlib import  Path\n",
    "import  matplotlib.pyplot as plt\n",
    "from sklearn.linear_model import LinearRegression\n",
    "from sklearn.model_selection import train_test_split\n",
    "from sklearn.preprocessing import LabelEncoder\n",
    "from sklearn.metrics import mean_squared_error, mean_absolute_error\n",
    "from sklearn.preprocessing import StandardScaler\n",
    "import matplotlib.pyplot as plt\n",
    "import  numpy as np\n",
    "from sklearn.preprocessing import MinMaxScaler"
   ],
   "metadata": {
    "collapsed": false
   }
  },
  {
   "cell_type": "markdown",
   "source": [
    "# Path and Read File"
   ],
   "metadata": {
    "collapsed": false
   }
  },
  {
   "cell_type": "code",
   "execution_count": 106,
   "outputs": [
    {
     "data": {
      "text/plain": "     Area  Room  Parking  Warehouse  Elevator             Address  \\\n0      63     1     True       True      True             Shahran   \n1      60     1     True       True      True             Shahran   \n2      79     2     True       True      True              Pardis   \n3      95     2     True       True      True       Shahrake Qods   \n4     123     2     True       True      True      Shahrake Gharb   \n...   ...   ...      ...        ...       ...                 ...   \n3474   86     2     True       True      True  Southern Janatabad   \n3475   83     2     True       True      True            Niavaran   \n3476   75     2    False      False     False              Parand   \n3477  105     2     True       True      True              Dorous   \n3478   82     2    False       True      True              Parand   \n\n             Price  Price(USD)  \n0     1.850000e+09    61666.67  \n1     1.850000e+09    61666.67  \n2     5.500000e+08    18333.33  \n3     9.025000e+08    30083.33  \n4     7.000000e+09   233333.33  \n...            ...         ...  \n3474  3.500000e+09   116666.67  \n3475  6.800000e+09   226666.67  \n3476  3.650000e+08    12166.67  \n3477  5.600000e+09   186666.67  \n3478  3.600000e+08    12000.00  \n\n[3479 rows x 8 columns]",
      "text/html": "<div>\n<style scoped>\n    .dataframe tbody tr th:only-of-type {\n        vertical-align: middle;\n    }\n\n    .dataframe tbody tr th {\n        vertical-align: top;\n    }\n\n    .dataframe thead th {\n        text-align: right;\n    }\n</style>\n<table border=\"1\" class=\"dataframe\">\n  <thead>\n    <tr style=\"text-align: right;\">\n      <th></th>\n      <th>Area</th>\n      <th>Room</th>\n      <th>Parking</th>\n      <th>Warehouse</th>\n      <th>Elevator</th>\n      <th>Address</th>\n      <th>Price</th>\n      <th>Price(USD)</th>\n    </tr>\n  </thead>\n  <tbody>\n    <tr>\n      <th>0</th>\n      <td>63</td>\n      <td>1</td>\n      <td>True</td>\n      <td>True</td>\n      <td>True</td>\n      <td>Shahran</td>\n      <td>1.850000e+09</td>\n      <td>61666.67</td>\n    </tr>\n    <tr>\n      <th>1</th>\n      <td>60</td>\n      <td>1</td>\n      <td>True</td>\n      <td>True</td>\n      <td>True</td>\n      <td>Shahran</td>\n      <td>1.850000e+09</td>\n      <td>61666.67</td>\n    </tr>\n    <tr>\n      <th>2</th>\n      <td>79</td>\n      <td>2</td>\n      <td>True</td>\n      <td>True</td>\n      <td>True</td>\n      <td>Pardis</td>\n      <td>5.500000e+08</td>\n      <td>18333.33</td>\n    </tr>\n    <tr>\n      <th>3</th>\n      <td>95</td>\n      <td>2</td>\n      <td>True</td>\n      <td>True</td>\n      <td>True</td>\n      <td>Shahrake Qods</td>\n      <td>9.025000e+08</td>\n      <td>30083.33</td>\n    </tr>\n    <tr>\n      <th>4</th>\n      <td>123</td>\n      <td>2</td>\n      <td>True</td>\n      <td>True</td>\n      <td>True</td>\n      <td>Shahrake Gharb</td>\n      <td>7.000000e+09</td>\n      <td>233333.33</td>\n    </tr>\n    <tr>\n      <th>...</th>\n      <td>...</td>\n      <td>...</td>\n      <td>...</td>\n      <td>...</td>\n      <td>...</td>\n      <td>...</td>\n      <td>...</td>\n      <td>...</td>\n    </tr>\n    <tr>\n      <th>3474</th>\n      <td>86</td>\n      <td>2</td>\n      <td>True</td>\n      <td>True</td>\n      <td>True</td>\n      <td>Southern Janatabad</td>\n      <td>3.500000e+09</td>\n      <td>116666.67</td>\n    </tr>\n    <tr>\n      <th>3475</th>\n      <td>83</td>\n      <td>2</td>\n      <td>True</td>\n      <td>True</td>\n      <td>True</td>\n      <td>Niavaran</td>\n      <td>6.800000e+09</td>\n      <td>226666.67</td>\n    </tr>\n    <tr>\n      <th>3476</th>\n      <td>75</td>\n      <td>2</td>\n      <td>False</td>\n      <td>False</td>\n      <td>False</td>\n      <td>Parand</td>\n      <td>3.650000e+08</td>\n      <td>12166.67</td>\n    </tr>\n    <tr>\n      <th>3477</th>\n      <td>105</td>\n      <td>2</td>\n      <td>True</td>\n      <td>True</td>\n      <td>True</td>\n      <td>Dorous</td>\n      <td>5.600000e+09</td>\n      <td>186666.67</td>\n    </tr>\n    <tr>\n      <th>3478</th>\n      <td>82</td>\n      <td>2</td>\n      <td>False</td>\n      <td>True</td>\n      <td>True</td>\n      <td>Parand</td>\n      <td>3.600000e+08</td>\n      <td>12000.00</td>\n    </tr>\n  </tbody>\n</table>\n<p>3479 rows × 8 columns</p>\n</div>"
     },
     "execution_count": 106,
     "metadata": {},
     "output_type": "execute_result"
    }
   ],
   "source": [
    "DATA_DIR=Path(\"../data/houseprice.csv\")\n",
    "data=pd.read_csv(DATA_DIR)\n",
    "data"
   ],
   "metadata": {
    "collapsed": false
   }
  },
  {
   "cell_type": "markdown",
   "source": [
    "# Data Cleaning"
   ],
   "metadata": {
    "collapsed": false
   }
  },
  {
   "cell_type": "code",
   "execution_count": 107,
   "outputs": [],
   "source": [
    "def extract_neighborhood(address):\n",
    "    parts = address.split(',')\n",
    "    if len(parts) > 0:\n",
    "        return parts[0].strip()\n",
    "    else:\n",
    "        return 0"
   ],
   "metadata": {
    "collapsed": false
   }
  },
  {
   "cell_type": "code",
   "execution_count": 108,
   "outputs": [
    {
     "data": {
      "text/plain": "       Area  Room  Parking  Warehouse  Elevator  Address  Price(USD)\n0      63.0     1        1          1         1      152    61666.67\n1      60.0     1        1          1         1      152    61666.67\n2      79.0     2        1          1         1      113    18333.33\n3      95.0     2        1          1         1      148    30083.33\n4     123.0     2        1          1         1      146   233333.33\n...     ...   ...      ...        ...       ...      ...         ...\n3474   86.0     2        1          1         1      159   116666.67\n3475   83.0     2        1          1         1      101   226666.67\n3476   75.0     2        0          0         0      111    12166.67\n3477  105.0     2        1          1         1       37   186666.67\n3478   82.0     2        0          1         1      111    12000.00\n\n[3212 rows x 7 columns]",
      "text/html": "<div>\n<style scoped>\n    .dataframe tbody tr th:only-of-type {\n        vertical-align: middle;\n    }\n\n    .dataframe tbody tr th {\n        vertical-align: top;\n    }\n\n    .dataframe thead th {\n        text-align: right;\n    }\n</style>\n<table border=\"1\" class=\"dataframe\">\n  <thead>\n    <tr style=\"text-align: right;\">\n      <th></th>\n      <th>Area</th>\n      <th>Room</th>\n      <th>Parking</th>\n      <th>Warehouse</th>\n      <th>Elevator</th>\n      <th>Address</th>\n      <th>Price(USD)</th>\n    </tr>\n  </thead>\n  <tbody>\n    <tr>\n      <th>0</th>\n      <td>63.0</td>\n      <td>1</td>\n      <td>1</td>\n      <td>1</td>\n      <td>1</td>\n      <td>152</td>\n      <td>61666.67</td>\n    </tr>\n    <tr>\n      <th>1</th>\n      <td>60.0</td>\n      <td>1</td>\n      <td>1</td>\n      <td>1</td>\n      <td>1</td>\n      <td>152</td>\n      <td>61666.67</td>\n    </tr>\n    <tr>\n      <th>2</th>\n      <td>79.0</td>\n      <td>2</td>\n      <td>1</td>\n      <td>1</td>\n      <td>1</td>\n      <td>113</td>\n      <td>18333.33</td>\n    </tr>\n    <tr>\n      <th>3</th>\n      <td>95.0</td>\n      <td>2</td>\n      <td>1</td>\n      <td>1</td>\n      <td>1</td>\n      <td>148</td>\n      <td>30083.33</td>\n    </tr>\n    <tr>\n      <th>4</th>\n      <td>123.0</td>\n      <td>2</td>\n      <td>1</td>\n      <td>1</td>\n      <td>1</td>\n      <td>146</td>\n      <td>233333.33</td>\n    </tr>\n    <tr>\n      <th>...</th>\n      <td>...</td>\n      <td>...</td>\n      <td>...</td>\n      <td>...</td>\n      <td>...</td>\n      <td>...</td>\n      <td>...</td>\n    </tr>\n    <tr>\n      <th>3474</th>\n      <td>86.0</td>\n      <td>2</td>\n      <td>1</td>\n      <td>1</td>\n      <td>1</td>\n      <td>159</td>\n      <td>116666.67</td>\n    </tr>\n    <tr>\n      <th>3475</th>\n      <td>83.0</td>\n      <td>2</td>\n      <td>1</td>\n      <td>1</td>\n      <td>1</td>\n      <td>101</td>\n      <td>226666.67</td>\n    </tr>\n    <tr>\n      <th>3476</th>\n      <td>75.0</td>\n      <td>2</td>\n      <td>0</td>\n      <td>0</td>\n      <td>0</td>\n      <td>111</td>\n      <td>12166.67</td>\n    </tr>\n    <tr>\n      <th>3477</th>\n      <td>105.0</td>\n      <td>2</td>\n      <td>1</td>\n      <td>1</td>\n      <td>1</td>\n      <td>37</td>\n      <td>186666.67</td>\n    </tr>\n    <tr>\n      <th>3478</th>\n      <td>82.0</td>\n      <td>2</td>\n      <td>0</td>\n      <td>1</td>\n      <td>1</td>\n      <td>111</td>\n      <td>12000.00</td>\n    </tr>\n  </tbody>\n</table>\n<p>3212 rows × 7 columns</p>\n</div>"
     },
     "execution_count": 108,
     "metadata": {},
     "output_type": "execute_result"
    }
   ],
   "source": [
    "data[\"Area\"]=pd.to_numeric(data[\"Area\"],errors='coerce')\n",
    "data[\"Area\"]=data[\"Area\"].dropna()\n",
    "data[\"Area\"]=data[\"Area\"].astype(float)\n",
    "df_area=data[\"Area\"]\n",
    "Q1=df_area.quantile(0.25)\n",
    "Q3=df_area.quantile(0.75)\n",
    "IQR=Q3-Q1\n",
    "lower_bound = Q1 - 1.5 * IQR\n",
    "upper_bound = Q3 + 1.5 * IQR\n",
    "data_clean=data[(data[\"Area\"] >= lower_bound) & (data[\"Area\"] <= upper_bound)]\n",
    "\n",
    "\n",
    "data_clean=data_clean.dropna()\n",
    "data_clean = data_clean.drop(\"Price\",axis=1)\n",
    "\n",
    "# data_clean[\"Address\"]=data_clean[\"Address\"].apply(lambda x:extract_neighborhood(x))\n",
    "# data_clean=pd.get_dummies(data_clean,columns=[\"Address\"])\n",
    "\n",
    "\n",
    "addresses=data_clean[\"Address\"]\n",
    "neighborhoods = [extract_neighborhood(addr) for addr in addresses]\n",
    "le = LabelEncoder()\n",
    "neighborhoods_encoded = le.fit_transform(neighborhoods)\n",
    "\n",
    "data_clean[\"Address\"]=neighborhoods_encoded\n",
    "data_clean[\"Parking\"]=data_clean[\"Parking\"].astype(int)\n",
    "data_clean[\"Warehouse\"]=data_clean[\"Warehouse\"].astype(int)\n",
    "data_clean[\"Elevator\"]=data_clean[\"Elevator\"].astype(int)\n",
    "data_clean"
   ],
   "metadata": {
    "collapsed": false
   }
  },
  {
   "cell_type": "markdown",
   "source": [
    "# Train and Test"
   ],
   "metadata": {
    "collapsed": false
   }
  },
  {
   "cell_type": "code",
   "execution_count": 120,
   "outputs": [],
   "source": [
    "data_y=data_clean[\"Price(USD)\"]\n",
    "data_x=data_clean.drop(\"Price(USD)\",axis=1)\n",
    "X_train, X_test, y_train, y_test = train_test_split(data_x, data_y, test_size=0.3, random_state=101)"
   ],
   "metadata": {
    "collapsed": false
   }
  },
  {
   "cell_type": "markdown",
   "source": [
    "# Model fit"
   ],
   "metadata": {
    "collapsed": false
   }
  },
  {
   "cell_type": "code",
   "execution_count": 126,
   "outputs": [
    {
     "data": {
      "text/plain": "LinearRegression()",
      "text/html": "<style>#sk-container-id-10 {\n  /* Definition of color scheme common for light and dark mode */\n  --sklearn-color-text: #000;\n  --sklearn-color-text-muted: #666;\n  --sklearn-color-line: gray;\n  /* Definition of color scheme for unfitted estimators */\n  --sklearn-color-unfitted-level-0: #fff5e6;\n  --sklearn-color-unfitted-level-1: #f6e4d2;\n  --sklearn-color-unfitted-level-2: #ffe0b3;\n  --sklearn-color-unfitted-level-3: chocolate;\n  /* Definition of color scheme for fitted estimators */\n  --sklearn-color-fitted-level-0: #f0f8ff;\n  --sklearn-color-fitted-level-1: #d4ebff;\n  --sklearn-color-fitted-level-2: #b3dbfd;\n  --sklearn-color-fitted-level-3: cornflowerblue;\n\n  /* Specific color for light theme */\n  --sklearn-color-text-on-default-background: var(--sg-text-color, var(--theme-code-foreground, var(--jp-content-font-color1, black)));\n  --sklearn-color-background: var(--sg-background-color, var(--theme-background, var(--jp-layout-color0, white)));\n  --sklearn-color-border-box: var(--sg-text-color, var(--theme-code-foreground, var(--jp-content-font-color1, black)));\n  --sklearn-color-icon: #696969;\n\n  @media (prefers-color-scheme: dark) {\n    /* Redefinition of color scheme for dark theme */\n    --sklearn-color-text-on-default-background: var(--sg-text-color, var(--theme-code-foreground, var(--jp-content-font-color1, white)));\n    --sklearn-color-background: var(--sg-background-color, var(--theme-background, var(--jp-layout-color0, #111)));\n    --sklearn-color-border-box: var(--sg-text-color, var(--theme-code-foreground, var(--jp-content-font-color1, white)));\n    --sklearn-color-icon: #878787;\n  }\n}\n\n#sk-container-id-10 {\n  color: var(--sklearn-color-text);\n}\n\n#sk-container-id-10 pre {\n  padding: 0;\n}\n\n#sk-container-id-10 input.sk-hidden--visually {\n  border: 0;\n  clip: rect(1px 1px 1px 1px);\n  clip: rect(1px, 1px, 1px, 1px);\n  height: 1px;\n  margin: -1px;\n  overflow: hidden;\n  padding: 0;\n  position: absolute;\n  width: 1px;\n}\n\n#sk-container-id-10 div.sk-dashed-wrapped {\n  border: 1px dashed var(--sklearn-color-line);\n  margin: 0 0.4em 0.5em 0.4em;\n  box-sizing: border-box;\n  padding-bottom: 0.4em;\n  background-color: var(--sklearn-color-background);\n}\n\n#sk-container-id-10 div.sk-container {\n  /* jupyter's `normalize.less` sets `[hidden] { display: none; }`\n     but bootstrap.min.css set `[hidden] { display: none !important; }`\n     so we also need the `!important` here to be able to override the\n     default hidden behavior on the sphinx rendered scikit-learn.org.\n     See: https://github.com/scikit-learn/scikit-learn/issues/21755 */\n  display: inline-block !important;\n  position: relative;\n}\n\n#sk-container-id-10 div.sk-text-repr-fallback {\n  display: none;\n}\n\ndiv.sk-parallel-item,\ndiv.sk-serial,\ndiv.sk-item {\n  /* draw centered vertical line to link estimators */\n  background-image: linear-gradient(var(--sklearn-color-text-on-default-background), var(--sklearn-color-text-on-default-background));\n  background-size: 2px 100%;\n  background-repeat: no-repeat;\n  background-position: center center;\n}\n\n/* Parallel-specific style estimator block */\n\n#sk-container-id-10 div.sk-parallel-item::after {\n  content: \"\";\n  width: 100%;\n  border-bottom: 2px solid var(--sklearn-color-text-on-default-background);\n  flex-grow: 1;\n}\n\n#sk-container-id-10 div.sk-parallel {\n  display: flex;\n  align-items: stretch;\n  justify-content: center;\n  background-color: var(--sklearn-color-background);\n  position: relative;\n}\n\n#sk-container-id-10 div.sk-parallel-item {\n  display: flex;\n  flex-direction: column;\n}\n\n#sk-container-id-10 div.sk-parallel-item:first-child::after {\n  align-self: flex-end;\n  width: 50%;\n}\n\n#sk-container-id-10 div.sk-parallel-item:last-child::after {\n  align-self: flex-start;\n  width: 50%;\n}\n\n#sk-container-id-10 div.sk-parallel-item:only-child::after {\n  width: 0;\n}\n\n/* Serial-specific style estimator block */\n\n#sk-container-id-10 div.sk-serial {\n  display: flex;\n  flex-direction: column;\n  align-items: center;\n  background-color: var(--sklearn-color-background);\n  padding-right: 1em;\n  padding-left: 1em;\n}\n\n\n/* Toggleable style: style used for estimator/Pipeline/ColumnTransformer box that is\nclickable and can be expanded/collapsed.\n- Pipeline and ColumnTransformer use this feature and define the default style\n- Estimators will overwrite some part of the style using the `sk-estimator` class\n*/\n\n/* Pipeline and ColumnTransformer style (default) */\n\n#sk-container-id-10 div.sk-toggleable {\n  /* Default theme specific background. It is overwritten whether we have a\n  specific estimator or a Pipeline/ColumnTransformer */\n  background-color: var(--sklearn-color-background);\n}\n\n/* Toggleable label */\n#sk-container-id-10 label.sk-toggleable__label {\n  cursor: pointer;\n  display: flex;\n  width: 100%;\n  margin-bottom: 0;\n  padding: 0.5em;\n  box-sizing: border-box;\n  text-align: center;\n  align-items: start;\n  justify-content: space-between;\n  gap: 0.5em;\n}\n\n#sk-container-id-10 label.sk-toggleable__label .caption {\n  font-size: 0.6rem;\n  font-weight: lighter;\n  color: var(--sklearn-color-text-muted);\n}\n\n#sk-container-id-10 label.sk-toggleable__label-arrow:before {\n  /* Arrow on the left of the label */\n  content: \"▸\";\n  float: left;\n  margin-right: 0.25em;\n  color: var(--sklearn-color-icon);\n}\n\n#sk-container-id-10 label.sk-toggleable__label-arrow:hover:before {\n  color: var(--sklearn-color-text);\n}\n\n/* Toggleable content - dropdown */\n\n#sk-container-id-10 div.sk-toggleable__content {\n  display: none;\n  text-align: left;\n  /* unfitted */\n  background-color: var(--sklearn-color-unfitted-level-0);\n}\n\n#sk-container-id-10 div.sk-toggleable__content.fitted {\n  /* fitted */\n  background-color: var(--sklearn-color-fitted-level-0);\n}\n\n#sk-container-id-10 div.sk-toggleable__content pre {\n  margin: 0.2em;\n  border-radius: 0.25em;\n  color: var(--sklearn-color-text);\n  /* unfitted */\n  background-color: var(--sklearn-color-unfitted-level-0);\n}\n\n#sk-container-id-10 div.sk-toggleable__content.fitted pre {\n  /* unfitted */\n  background-color: var(--sklearn-color-fitted-level-0);\n}\n\n#sk-container-id-10 input.sk-toggleable__control:checked~div.sk-toggleable__content {\n  /* Expand drop-down */\n  display: block;\n  width: 100%;\n  overflow: visible;\n}\n\n#sk-container-id-10 input.sk-toggleable__control:checked~label.sk-toggleable__label-arrow:before {\n  content: \"▾\";\n}\n\n/* Pipeline/ColumnTransformer-specific style */\n\n#sk-container-id-10 div.sk-label input.sk-toggleable__control:checked~label.sk-toggleable__label {\n  color: var(--sklearn-color-text);\n  background-color: var(--sklearn-color-unfitted-level-2);\n}\n\n#sk-container-id-10 div.sk-label.fitted input.sk-toggleable__control:checked~label.sk-toggleable__label {\n  background-color: var(--sklearn-color-fitted-level-2);\n}\n\n/* Estimator-specific style */\n\n/* Colorize estimator box */\n#sk-container-id-10 div.sk-estimator input.sk-toggleable__control:checked~label.sk-toggleable__label {\n  /* unfitted */\n  background-color: var(--sklearn-color-unfitted-level-2);\n}\n\n#sk-container-id-10 div.sk-estimator.fitted input.sk-toggleable__control:checked~label.sk-toggleable__label {\n  /* fitted */\n  background-color: var(--sklearn-color-fitted-level-2);\n}\n\n#sk-container-id-10 div.sk-label label.sk-toggleable__label,\n#sk-container-id-10 div.sk-label label {\n  /* The background is the default theme color */\n  color: var(--sklearn-color-text-on-default-background);\n}\n\n/* On hover, darken the color of the background */\n#sk-container-id-10 div.sk-label:hover label.sk-toggleable__label {\n  color: var(--sklearn-color-text);\n  background-color: var(--sklearn-color-unfitted-level-2);\n}\n\n/* Label box, darken color on hover, fitted */\n#sk-container-id-10 div.sk-label.fitted:hover label.sk-toggleable__label.fitted {\n  color: var(--sklearn-color-text);\n  background-color: var(--sklearn-color-fitted-level-2);\n}\n\n/* Estimator label */\n\n#sk-container-id-10 div.sk-label label {\n  font-family: monospace;\n  font-weight: bold;\n  display: inline-block;\n  line-height: 1.2em;\n}\n\n#sk-container-id-10 div.sk-label-container {\n  text-align: center;\n}\n\n/* Estimator-specific */\n#sk-container-id-10 div.sk-estimator {\n  font-family: monospace;\n  border: 1px dotted var(--sklearn-color-border-box);\n  border-radius: 0.25em;\n  box-sizing: border-box;\n  margin-bottom: 0.5em;\n  /* unfitted */\n  background-color: var(--sklearn-color-unfitted-level-0);\n}\n\n#sk-container-id-10 div.sk-estimator.fitted {\n  /* fitted */\n  background-color: var(--sklearn-color-fitted-level-0);\n}\n\n/* on hover */\n#sk-container-id-10 div.sk-estimator:hover {\n  /* unfitted */\n  background-color: var(--sklearn-color-unfitted-level-2);\n}\n\n#sk-container-id-10 div.sk-estimator.fitted:hover {\n  /* fitted */\n  background-color: var(--sklearn-color-fitted-level-2);\n}\n\n/* Specification for estimator info (e.g. \"i\" and \"?\") */\n\n/* Common style for \"i\" and \"?\" */\n\n.sk-estimator-doc-link,\na:link.sk-estimator-doc-link,\na:visited.sk-estimator-doc-link {\n  float: right;\n  font-size: smaller;\n  line-height: 1em;\n  font-family: monospace;\n  background-color: var(--sklearn-color-background);\n  border-radius: 1em;\n  height: 1em;\n  width: 1em;\n  text-decoration: none !important;\n  margin-left: 0.5em;\n  text-align: center;\n  /* unfitted */\n  border: var(--sklearn-color-unfitted-level-1) 1pt solid;\n  color: var(--sklearn-color-unfitted-level-1);\n}\n\n.sk-estimator-doc-link.fitted,\na:link.sk-estimator-doc-link.fitted,\na:visited.sk-estimator-doc-link.fitted {\n  /* fitted */\n  border: var(--sklearn-color-fitted-level-1) 1pt solid;\n  color: var(--sklearn-color-fitted-level-1);\n}\n\n/* On hover */\ndiv.sk-estimator:hover .sk-estimator-doc-link:hover,\n.sk-estimator-doc-link:hover,\ndiv.sk-label-container:hover .sk-estimator-doc-link:hover,\n.sk-estimator-doc-link:hover {\n  /* unfitted */\n  background-color: var(--sklearn-color-unfitted-level-3);\n  color: var(--sklearn-color-background);\n  text-decoration: none;\n}\n\ndiv.sk-estimator.fitted:hover .sk-estimator-doc-link.fitted:hover,\n.sk-estimator-doc-link.fitted:hover,\ndiv.sk-label-container:hover .sk-estimator-doc-link.fitted:hover,\n.sk-estimator-doc-link.fitted:hover {\n  /* fitted */\n  background-color: var(--sklearn-color-fitted-level-3);\n  color: var(--sklearn-color-background);\n  text-decoration: none;\n}\n\n/* Span, style for the box shown on hovering the info icon */\n.sk-estimator-doc-link span {\n  display: none;\n  z-index: 9999;\n  position: relative;\n  font-weight: normal;\n  right: .2ex;\n  padding: .5ex;\n  margin: .5ex;\n  width: min-content;\n  min-width: 20ex;\n  max-width: 50ex;\n  color: var(--sklearn-color-text);\n  box-shadow: 2pt 2pt 4pt #999;\n  /* unfitted */\n  background: var(--sklearn-color-unfitted-level-0);\n  border: .5pt solid var(--sklearn-color-unfitted-level-3);\n}\n\n.sk-estimator-doc-link.fitted span {\n  /* fitted */\n  background: var(--sklearn-color-fitted-level-0);\n  border: var(--sklearn-color-fitted-level-3);\n}\n\n.sk-estimator-doc-link:hover span {\n  display: block;\n}\n\n/* \"?\"-specific style due to the `<a>` HTML tag */\n\n#sk-container-id-10 a.estimator_doc_link {\n  float: right;\n  font-size: 1rem;\n  line-height: 1em;\n  font-family: monospace;\n  background-color: var(--sklearn-color-background);\n  border-radius: 1rem;\n  height: 1rem;\n  width: 1rem;\n  text-decoration: none;\n  /* unfitted */\n  color: var(--sklearn-color-unfitted-level-1);\n  border: var(--sklearn-color-unfitted-level-1) 1pt solid;\n}\n\n#sk-container-id-10 a.estimator_doc_link.fitted {\n  /* fitted */\n  border: var(--sklearn-color-fitted-level-1) 1pt solid;\n  color: var(--sklearn-color-fitted-level-1);\n}\n\n/* On hover */\n#sk-container-id-10 a.estimator_doc_link:hover {\n  /* unfitted */\n  background-color: var(--sklearn-color-unfitted-level-3);\n  color: var(--sklearn-color-background);\n  text-decoration: none;\n}\n\n#sk-container-id-10 a.estimator_doc_link.fitted:hover {\n  /* fitted */\n  background-color: var(--sklearn-color-fitted-level-3);\n}\n\n.estimator-table summary {\n    padding: .5rem;\n    font-family: monospace;\n    cursor: pointer;\n}\n\n.estimator-table details[open] {\n    padding-left: 0.1rem;\n    padding-right: 0.1rem;\n    padding-bottom: 0.3rem;\n}\n\n.estimator-table .parameters-table {\n    margin-left: auto !important;\n    margin-right: auto !important;\n}\n\n.estimator-table .parameters-table tr:nth-child(odd) {\n    background-color: #fff;\n}\n\n.estimator-table .parameters-table tr:nth-child(even) {\n    background-color: #f6f6f6;\n}\n\n.estimator-table .parameters-table tr:hover {\n    background-color: #e0e0e0;\n}\n\n.estimator-table table td {\n    border: 1px solid rgba(106, 105, 104, 0.232);\n}\n\n.user-set td {\n    color:rgb(255, 94, 0);\n    text-align: left;\n}\n\n.user-set td.value pre {\n    color:rgb(255, 94, 0) !important;\n    background-color: transparent !important;\n}\n\n.default td {\n    color: black;\n    text-align: left;\n}\n\n.user-set td i,\n.default td i {\n    color: black;\n}\n\n.copy-paste-icon {\n    background-image: url(data:image/svg+xml;base64,PHN2ZyB4bWxucz0iaHR0cDovL3d3dy53My5vcmcvMjAwMC9zdmciIHZpZXdCb3g9IjAgMCA0NDggNTEyIj48IS0tIUZvbnQgQXdlc29tZSBGcmVlIDYuNy4yIGJ5IEBmb250YXdlc29tZSAtIGh0dHBzOi8vZm9udGF3ZXNvbWUuY29tIExpY2Vuc2UgLSBodHRwczovL2ZvbnRhd2Vzb21lLmNvbS9saWNlbnNlL2ZyZWUgQ29weXJpZ2h0IDIwMjUgRm9udGljb25zLCBJbmMuLS0+PHBhdGggZD0iTTIwOCAwTDMzMi4xIDBjMTIuNyAwIDI0LjkgNS4xIDMzLjkgMTQuMWw2Ny45IDY3LjljOSA5IDE0LjEgMjEuMiAxNC4xIDMzLjlMNDQ4IDMzNmMwIDI2LjUtMjEuNSA0OC00OCA0OGwtMTkyIDBjLTI2LjUgMC00OC0yMS41LTQ4LTQ4bDAtMjg4YzAtMjYuNSAyMS41LTQ4IDQ4LTQ4ek00OCAxMjhsODAgMCAwIDY0LTY0IDAgMCAyNTYgMTkyIDAgMC0zMiA2NCAwIDAgNDhjMCAyNi41LTIxLjUgNDgtNDggNDhMNDggNTEyYy0yNi41IDAtNDgtMjEuNS00OC00OEwwIDE3NmMwLTI2LjUgMjEuNS00OCA0OC00OHoiLz48L3N2Zz4=);\n    background-repeat: no-repeat;\n    background-size: 14px 14px;\n    background-position: 0;\n    display: inline-block;\n    width: 14px;\n    height: 14px;\n    cursor: pointer;\n}\n</style><body><div id=\"sk-container-id-10\" class=\"sk-top-container\"><div class=\"sk-text-repr-fallback\"><pre>LinearRegression()</pre><b>In a Jupyter environment, please rerun this cell to show the HTML representation or trust the notebook. <br />On GitHub, the HTML representation is unable to render, please try loading this page with nbviewer.org.</b></div><div class=\"sk-container\" hidden><div class=\"sk-item\"><div class=\"sk-estimator fitted sk-toggleable\"><input class=\"sk-toggleable__control sk-hidden--visually\" id=\"sk-estimator-id-10\" type=\"checkbox\" checked><label for=\"sk-estimator-id-10\" class=\"sk-toggleable__label fitted sk-toggleable__label-arrow\"><div><div>LinearRegression</div></div><div><a class=\"sk-estimator-doc-link fitted\" rel=\"noreferrer\" target=\"_blank\" href=\"https://scikit-learn.org/1.7/modules/generated/sklearn.linear_model.LinearRegression.html\">?<span>Documentation for LinearRegression</span></a><span class=\"sk-estimator-doc-link fitted\">i<span>Fitted</span></span></div></label><div class=\"sk-toggleable__content fitted\" data-param-prefix=\"\">\n        <div class=\"estimator-table\">\n            <details>\n                <summary>Parameters</summary>\n                <table class=\"parameters-table\">\n                  <tbody>\n                    \n        <tr class=\"default\">\n            <td><i class=\"copy-paste-icon\"\n                 onclick=\"copyToClipboard('fit_intercept',\n                          this.parentElement.nextElementSibling)\"\n            ></i></td>\n            <td class=\"param\">fit_intercept&nbsp;</td>\n            <td class=\"value\">True</td>\n        </tr>\n    \n\n        <tr class=\"default\">\n            <td><i class=\"copy-paste-icon\"\n                 onclick=\"copyToClipboard('copy_X',\n                          this.parentElement.nextElementSibling)\"\n            ></i></td>\n            <td class=\"param\">copy_X&nbsp;</td>\n            <td class=\"value\">True</td>\n        </tr>\n    \n\n        <tr class=\"default\">\n            <td><i class=\"copy-paste-icon\"\n                 onclick=\"copyToClipboard('tol',\n                          this.parentElement.nextElementSibling)\"\n            ></i></td>\n            <td class=\"param\">tol&nbsp;</td>\n            <td class=\"value\">1e-06</td>\n        </tr>\n    \n\n        <tr class=\"default\">\n            <td><i class=\"copy-paste-icon\"\n                 onclick=\"copyToClipboard('n_jobs',\n                          this.parentElement.nextElementSibling)\"\n            ></i></td>\n            <td class=\"param\">n_jobs&nbsp;</td>\n            <td class=\"value\">None</td>\n        </tr>\n    \n\n        <tr class=\"default\">\n            <td><i class=\"copy-paste-icon\"\n                 onclick=\"copyToClipboard('positive',\n                          this.parentElement.nextElementSibling)\"\n            ></i></td>\n            <td class=\"param\">positive&nbsp;</td>\n            <td class=\"value\">False</td>\n        </tr>\n    \n                  </tbody>\n                </table>\n            </details>\n        </div>\n    </div></div></div></div></div><script>function copyToClipboard(text, element) {\n    // Get the parameter prefix from the closest toggleable content\n    const toggleableContent = element.closest('.sk-toggleable__content');\n    const paramPrefix = toggleableContent ? toggleableContent.dataset.paramPrefix : '';\n    const fullParamName = paramPrefix ? `${paramPrefix}${text}` : text;\n\n    const originalStyle = element.style;\n    const computedStyle = window.getComputedStyle(element);\n    const originalWidth = computedStyle.width;\n    const originalHTML = element.innerHTML.replace('Copied!', '');\n\n    navigator.clipboard.writeText(fullParamName)\n        .then(() => {\n            element.style.width = originalWidth;\n            element.style.color = 'green';\n            element.innerHTML = \"Copied!\";\n\n            setTimeout(() => {\n                element.innerHTML = originalHTML;\n                element.style = originalStyle;\n            }, 2000);\n        })\n        .catch(err => {\n            console.error('Failed to copy:', err);\n            element.style.color = 'red';\n            element.innerHTML = \"Failed!\";\n            setTimeout(() => {\n                element.innerHTML = originalHTML;\n                element.style = originalStyle;\n            }, 2000);\n        });\n    return false;\n}\n\ndocument.querySelectorAll('.fa-regular.fa-copy').forEach(function(element) {\n    const toggleableContent = element.closest('.sk-toggleable__content');\n    const paramPrefix = toggleableContent ? toggleableContent.dataset.paramPrefix : '';\n    const paramName = element.parentElement.nextElementSibling.textContent.trim();\n    const fullParamName = paramPrefix ? `${paramPrefix}${paramName}` : paramName;\n\n    element.setAttribute('title', fullParamName);\n});\n</script></body>"
     },
     "execution_count": 126,
     "metadata": {},
     "output_type": "execute_result"
    }
   ],
   "source": [
    "scaler = MinMaxScaler()\n",
    "X_train_scaled = scaler.fit_transform(X_train)\n",
    "X_test_scaled = scaler.transform(X_test)\n",
    "\n",
    "\n",
    "\n",
    "\n",
    "\n",
    "X_train_scaled\n",
    "\n",
    "\n",
    "# weights = {\n",
    "#     \"5\": 0.50,\n",
    "#     \"0\": 0.40,\n",
    "#     \"1\": 0.02,\n",
    "#     \"2\": 0.06,\n",
    "#     \"4\": 0.01,\n",
    "#     \"3\": 0.01\n",
    "# }\n",
    "#\n",
    "# X_train_weighted = X_train.copy()\n",
    "# for feature, weight in weights.items():\n",
    "#     X_train_weighted[feature] = X_train[feature] * weight\n",
    "\n",
    "# X_test_weighted = X_test.copy()\n",
    "# for feature, weight in weights.items():\n",
    "#     X_test_weighted[feature] = X_test[feature] * weight\n",
    "\n",
    "\n",
    "\n",
    "\n",
    "#\n",
    "model = LinearRegression()\n",
    "model.fit(X_train_scaled, y_train)\n",
    "\n",
    "\n",
    "# coefficients = pd.DataFrame({\n",
    "#     'Feature': X_train.columns,\n",
    "#     'Coefficient': model.coef_,\n",
    "#     'Original_Weight': weights.values()\n",
    "# })\n",
    "\n",
    "# print(coefficients.sort_values('Coefficient', key=abs, ascending=False))"
   ],
   "metadata": {
    "collapsed": false
   }
  },
  {
   "cell_type": "code",
   "execution_count": 127,
   "outputs": [
    {
     "data": {
      "text/plain": "array([ 1.63506517e+05,  1.70250347e+05,  1.43062173e+05,  1.83248848e+05,\n        3.26948441e+04,  3.35367900e+04,  2.34494487e+05,  6.19331265e+04,\n       -3.72951863e+04,  5.18728436e+04,  1.15242186e+05,  2.97787674e+04,\n        1.04845636e+05,  1.44643953e+05,  3.38330839e+05,  1.54935202e+05,\n        3.59302164e+05,  1.53355671e+05,  2.43479309e+04,  7.05066914e+04,\n        1.00736606e+05,  1.67101526e+05,  4.63948877e+04, -2.70345390e+04,\n        1.38321331e+05,  1.39514754e+05,  1.47840365e+05,  4.77655934e+04,\n        1.72461690e+05,  6.82615701e+04,  4.39027393e+04,  1.83248848e+05,\n        5.39465040e+04,  4.38450272e+04,  1.15242186e+05,  7.04257935e+04,\n        1.07761242e+05,  6.12525053e+03,  6.21810809e+04,  3.07911153e+05,\n        8.33131703e+04,  1.16330307e+05,  9.24811971e+04,  2.86936949e+04,\n        3.79995463e+04,  5.08553944e+04,  7.35301777e+04,  3.46654671e+05,\n        4.02833403e+04,  2.52306751e+05,  4.99453547e+04,  1.18614101e+05,\n        1.57041243e+05,  7.86420595e+04,  1.22795582e+05,  4.88168347e+04,\n        2.41977681e+05,  1.98318288e+05,  5.91133816e+04,  2.15914978e+05,\n        8.45434733e+04,  6.77874208e+04,  2.57784706e+05,  8.69969627e+04,\n       -1.22646716e+04,  2.53956483e+05,  1.92568773e+05,  1.57956110e+05,\n        1.09270571e+05,  1.46331036e+05,  1.42814219e+05,  5.30707661e+04,\n        3.16209914e+04,  3.78932504e+04,  4.27048168e+04,  1.53741779e+05,\n        7.01026014e+04,  7.72011524e+04,  2.83085812e+04,  5.90175202e+04,\n        8.96734710e+04, -1.13391077e+04,  3.46689771e+05,  1.50929225e+05,\n        2.08572657e+05,  1.04316405e+05,  1.70250347e+05,  9.52208294e+04,\n        1.22724387e+05,  1.05968857e+05,  2.56027423e+05,  1.43656635e+05,\n        1.77272733e+05,  3.60495587e+05,  5.70226319e+03,  3.29830196e+05,\n        1.15801548e+05,  1.07761242e+05,  1.16227255e+05,  1.94522915e+05,\n        1.48014089e+05,  2.54518093e+05,  1.85354889e+05,  7.13374174e+04,\n        3.23050795e+05,  1.17666383e+05,  1.32733574e+05,  3.16209914e+04,\n        2.18161422e+05,  2.86560161e+04,  7.98102084e+03,  1.08112249e+05,\n        2.78980695e+04,  1.07923189e+04,  1.85530392e+05,  1.68635716e+05,\n        2.39498046e+04,  2.31033594e+04,  2.79810831e+05,  3.70660964e+04,\n        7.37904226e+04,  5.11873481e+04,  3.14550151e+05,  1.96524125e+05,\n        3.38948742e+04,  1.27042764e+05,  1.15242186e+05,  5.45610560e+04,\n        2.39797410e+05,  3.54136086e+05,  1.15310138e+05,  2.25106766e+04,\n        4.59185455e+04,  1.40532674e+05,  2.88084376e+04,  1.07761242e+05,\n        3.83783087e+05,  1.08145100e+05,  2.18056120e+05,  1.98491542e+05,\n        6.16754029e+04, -6.94602609e+02,  3.86829774e+04,  3.17779414e+05,\n        2.33441466e+05,  1.63506517e+05,  1.44187644e+05, -1.21754087e+03,\n       -1.50935583e+04,  4.29692893e+04,  3.98438780e+04,  1.92450196e+05,\n        7.91645409e+04,  4.69028153e+04,  1.35701005e+04,  4.99453547e+04,\n        1.27205507e+05,  7.29823216e+04,  2.87572581e+05,  3.90543459e+04,\n        1.06778423e+05,  3.42227485e+05,  2.16020280e+05,  2.12014774e+05,\n        3.23380131e+05,  6.92634285e+04,  3.30565061e+05,  9.63831944e+04,\n        1.33646192e+05,  6.29550750e+04,  6.46940615e+04,  6.47309413e+04,\n        1.52899362e+05,  1.08954665e+05,  2.35828783e+05,  1.03086102e+05,\n        2.44367248e+05,  1.05867127e+05,  7.09482613e+04,  2.21252531e+05,\n        4.85507682e+04,  1.47924835e+05,  3.54065414e+05,  1.79817614e+04,\n        9.24460964e+04,  2.85745096e+05,  1.24199609e+05,  6.08329865e+04,\n        2.90226137e+04,  1.46610062e+05,  1.10604397e+05,  5.77424371e+03,\n        5.09393937e+04,  3.48550107e+05,  4.56395192e+04,  9.36911384e+04,\n        1.55286209e+05,  4.19659233e+04,  2.99270106e+05,  2.64001556e+05,\n        1.01649224e+05,  2.46167175e+04,  2.86975869e+05,  3.65927989e+04,\n        1.76805942e+04,  1.83108445e+05,  6.25875501e+04,  1.54689497e+05,\n        1.57602854e+05,  2.27746923e+04,  5.92835867e+04,  9.53243523e+04,\n        1.97225668e+05,  1.58323635e+05,  5.91133816e+04,  1.67931453e+05,\n        1.23392293e+05,  1.15242186e+05, -1.23241765e+04,  1.41761198e+05,\n        6.95234018e+04,  7.07750212e+04,  7.05066914e+04,  1.78012568e+05,\n        1.70180146e+05,  2.47844465e+05,  3.93827413e+04,  1.06673121e+05,\n        2.02881377e+05,  2.76892446e+04,  1.97894831e+05,  2.71939280e+05,\n        8.12026301e+04,  1.06778423e+05,  1.23181689e+05,  1.24726119e+05,\n        3.55857798e+05,  4.64691315e+04,  2.23396393e+05,  1.87466751e+05,\n        1.60591381e+05,  3.73299132e+04,  2.59159132e+04,  9.07941147e+04,\n       -1.95465518e+03,  8.70701990e+04,  5.18389987e+04,  4.39027393e+04,\n        1.38672338e+05,  5.96363198e+04,  9.26215998e+04,  8.77897246e+04,\n        8.20828673e+04,  4.24739727e+05,  1.94522915e+05,  1.99652114e+05,\n        1.01366169e+05,  3.33270063e+05,  2.14932159e+05,  1.38672338e+05,\n        2.23115588e+05,  2.36991605e+05,  5.14019947e+04,  2.84305968e+05,\n        4.20527645e+05,  3.94635946e+05,  5.48964720e+04, -1.08765068e+04,\n        1.36142839e+05,  1.11762720e+05,  1.34606469e+03,  3.46233462e+05,\n        9.69740843e+04,  6.80331255e+04,  1.09130168e+05,  3.00849637e+05,\n        5.52821090e+04,  2.00740235e+05,  1.70250347e+05,  2.86833217e+05,\n        1.57394499e+05,  9.88020399e+04,  2.25277605e+05,  7.86402803e+04,\n        2.42081204e+05,  1.70250347e+05,  3.21785391e+05,  1.96821184e+04,\n        2.30210425e+05,  1.26937462e+05,  2.35267172e+05,  1.15310138e+05,\n        1.27205507e+05,  2.68710017e+05,  1.15242186e+05,  2.68710017e+05,\n        2.42677916e+05,  2.87572581e+05,  1.13555104e+05, -1.22166248e+04,\n        6.43448338e+04,  2.07905744e+05,  1.20125680e+05,  4.08757669e+05,\n        1.76327265e+05,  5.60690630e+04,  2.84516572e+05,  2.89998557e+05,\n        3.82963994e+04,  4.07809950e+05, -2.35036386e+04,  1.39900862e+05,\n        5.27530808e+04,  4.97680585e+04,  1.85495291e+05,  2.48792689e+04,\n        4.42656352e+05,  2.27195016e+04,  2.98146885e+05,  8.19086725e+04,\n        1.35405725e+05,  1.21422156e+05,  1.22000285e+05,  1.70250347e+05,\n        2.14704295e+05,  6.16403022e+04,  6.31145308e+04,  8.12026301e+04,\n        4.21103549e+04,  1.88057641e+05,  1.38040526e+05,  1.24340012e+05,\n        2.53991583e+05,  5.20679138e+04,  2.09409151e+04,  3.22241700e+05,\n        1.93397915e+05,  4.17609789e+05,  2.01544317e+04,  4.11954875e+04,\n        1.85951600e+05,  5.84581590e+04,  2.91332383e+05,  2.08677959e+05,\n        1.62769403e+05,  2.29755895e+05,  2.15458669e+05,  6.91927703e+04,\n        5.60690630e+04,  3.17613941e+04,  1.94555767e+05,  2.64355283e+05,\n        1.16230449e+04,  2.17740684e+05,  2.06498997e+05,  3.01315005e+04,\n        2.88084376e+04,  1.10135377e+03,  1.58480371e+05, -1.95535945e+04,\n        1.08954665e+05,  1.19229909e+05,  6.99694595e+03,  3.60996102e+04,\n        9.28322039e+04,  6.43448338e+04,  1.70250347e+05,  9.42362312e+04,\n        1.79817614e+04,  1.00030093e+05,  1.54338490e+05,  1.64214352e+05,\n        1.98000133e+05,  1.56979674e+04,  1.72180885e+05,  1.48858285e+05,\n        2.23396393e+05,  1.41728347e+05,  1.24340012e+05,  1.70250347e+05,\n        7.10507903e+04,  1.72674544e+05,  3.94741248e+05,  1.49081378e+05,\n        6.61705398e+04,  8.12026301e+04,  4.71675731e+04,  5.18196309e+04,\n        2.30212204e+05,  9.07941147e+04,  1.47679130e+05,  3.76440295e+05,\n        9.42362312e+04,  1.11657417e+05,  2.54518093e+05,  3.77743520e+05,\n        2.06155683e+04,  2.57574102e+05, -1.22646716e+04,  1.49174191e+05,\n        1.27534174e+05, -1.29186384e+04,  2.20056859e+05,  9.34266659e+04,\n        1.22795582e+05,  1.69405681e+05,  2.19954277e+05,  1.15242186e+05,\n        1.74041221e+05,  2.40009793e+05,  3.77907214e+04,  2.36816102e+05,\n        3.98438780e+04, -2.08523198e+04,  7.22990758e+04,  2.14861958e+05,\n        7.37563158e+04,  6.00750400e+04,  1.93292612e+05,  2.69236527e+05,\n        1.32347937e+05,  4.27048168e+04,  3.98967623e+04,  8.36308556e+04,\n        5.29303634e+04, -3.19531337e+04,  5.91133816e+04,  5.39833838e+04,\n        2.12488449e+04,  6.77874208e+04,  1.09022617e+05,  5.75636533e+04,\n        1.39479654e+05,  2.25603743e+04,  7.61125608e+04,  5.57033172e+04,\n        1.98491542e+05,  1.54794799e+05,  1.25989744e+05,  1.06720240e+05,\n        2.47633861e+05,  1.08883940e+05,  9.08643161e+04,  8.66291524e+04,\n        1.94546677e+04,  1.54338490e+05,  2.14861958e+05,  1.52688758e+05,\n        2.76614419e+05,  1.96524125e+05,  1.71829878e+05,  9.46245883e+04,\n        2.99270106e+05,  2.71342568e+05,  2.62385145e+05,  1.32960696e+05,\n        3.43237439e+04,  1.16683564e+05,  1.70250347e+05,  1.39514754e+05,\n        1.32946428e+05,  2.31370526e+05,  2.68639816e+05,  4.59048004e+04,\n       -6.19170350e+04,  8.47500486e+04,  7.24362350e+04, -1.84361943e+04,\n        1.04845636e+05,  9.26215998e+04,  9.39180754e+04,  5.73151756e+04,\n        1.93713350e+05,  2.10715578e+05,  2.66636827e+05,  9.65902265e+04,\n        6.02358044e+04,  1.37656508e+04,  1.04492379e+05,  3.48339503e+05,\n        1.00032343e+05,  4.94842181e+04,  9.77325445e+04,  1.50260533e+05,\n        4.11544657e+03,  1.24094307e+05,  2.72292536e+05,  1.75201793e+05,\n        6.37809733e+04,  1.58726076e+05,  4.24739727e+05,  1.12254129e+05,\n        1.95437783e+05,  1.24234710e+05,  3.72068276e+04,  2.56518832e+05,\n       -1.85366686e+04,  8.66868645e+04,  5.68412780e+04,  1.08954665e+05,\n        7.03838774e+04,  4.42720570e+04,  5.48964720e+04,  2.41379190e+05,\n        6.26582220e+04,  1.33894146e+05,  5.83531854e+04,  5.34714705e+04,\n        7.51297417e+04,  2.52490003e+04,  1.57041243e+05,  1.42814219e+05,\n        6.13053430e+04, -2.37811301e+03,  5.09273749e+04,  5.37376790e+04,\n        9.47604918e+04,  2.24100186e+05,  1.70952361e+05,  3.49590616e+04,\n        1.53599126e+05,  1.46151033e+05,  2.08413201e+05, -1.05610711e+04,\n        4.59558959e+04,  1.27534174e+05,  3.06763745e+04,  7.39732120e+04,\n        1.20228733e+05,  1.29153304e+05,  4.23550658e+04,  1.39058446e+05,\n        1.11201109e+05,  2.12590183e+05, -2.06920787e+04,  5.91133816e+04,\n        4.78344861e+04,  1.69618535e+05,  1.76622833e+04,  1.54970303e+05,\n        1.36702201e+05,  5.12766025e+04,  9.95035831e+04,  4.48153570e+04,\n        1.06074159e+05,  7.08434297e+04, -1.08607108e+04,  1.23181689e+05,\n        6.07419529e+04,  7.23527590e+04,  8.14852147e+04,  2.68343526e+04,\n        6.53792717e+04,  4.75905605e+04,  2.77665190e+05,  2.94140908e+05,\n        1.88654353e+05,  7.98128713e+04,  6.13594967e+04,  2.30352606e+05,\n        6.70511054e+04,  1.94066607e+05,  2.56027423e+05,  3.50763700e+05,\n        7.67945411e+04,  1.70250347e+05,  6.42515506e+04,  9.63773728e+04,\n        2.49320472e+05,  4.48255966e+04,  1.70180146e+05,  5.44868122e+04,\n        1.10135377e+03,  1.61150272e+05, -1.08607108e+04,  1.39758210e+05,\n       -2.68261846e+04,  1.98599094e+05,  1.53423948e+04,  2.25106766e+04,\n        1.24478165e+05,  3.62601628e+05,  1.15242186e+05,  2.17003099e+05,\n        4.17593480e+04,  2.75945257e+05,  6.26582220e+04, -3.25147446e+04,\n        3.04484005e+04,  3.46770004e+04,  1.16016651e+05,  1.65385950e+05,\n        1.12186177e+05,  1.93678720e+05, -1.08607108e+04,  1.58728325e+05,\n        1.07923189e+04,  5.39630221e+04,  1.72986421e+05,  2.09347122e+05,\n        5.55282843e+04,  7.09454883e+04,  7.05066914e+04,  1.18862616e+04,\n        8.19094715e+04,  1.99090503e+05,  8.94251882e+04,  1.23041287e+05,\n        3.08225280e+05,  5.37372222e+04,  1.87954589e+05,  3.83892258e+04,\n        1.03576412e+04,  6.34113839e+04,  7.05066914e+04,  1.96841810e+05,\n        1.54665311e+04,  1.61610624e+05,  1.03928519e+05,  4.86227487e+04,\n        1.12926864e+05,  8.29971363e+03, -5.43302651e+04,  3.79110197e+05,\n        1.09130168e+05, -3.74706897e+04,  1.87601332e+05,  6.61705398e+04,\n        1.58100555e+05,  2.71939280e+05,  1.68881421e+05,  6.83508108e+04,\n        7.04733698e+04,  2.26697051e+04,  1.48858285e+05,  6.47309413e+04,\n        1.19475614e+05,  4.66410629e+04,  1.70180146e+05,  7.68150449e+04,\n        2.95162728e+04,  2.72149884e+05,  8.61234744e+04,  1.81736275e+05,\n        2.21919444e+05,  9.24811971e+04,  2.78507606e+05,  6.11853156e+04,\n        8.57368965e+04,  2.63124509e+05,  4.45345515e+04,  1.53685336e+05,\n        1.76046930e+05,  1.57956110e+05,  5.11873481e+04,  2.03337686e+05,\n        3.22230541e+04,  1.57041243e+05,  7.05066914e+04, -1.18620460e+04,\n        2.15929717e+05,  1.85319788e+05,  1.85530392e+05,  1.50545367e+05,\n        1.40219018e+05,  4.85507682e+04,  1.70250347e+05,  1.38531935e+05,\n        2.23677199e+05,  8.58772992e+04, -1.00696616e+04,  2.21711560e+05,\n        2.87675633e+05,  4.10898810e+05,  9.03706569e+04,  1.79383273e+05,\n       -1.21754087e+03,  1.12186177e+05,  1.54865001e+05,  3.69651516e+04,\n        1.54338490e+05,  2.75173131e+04,  2.42928120e+05,  7.32116935e+04,\n        8.86870800e+04,  1.15242186e+05,  1.19208563e+05,  1.21422156e+05,\n        5.78795595e+04,  3.89581448e+05,  6.70147353e+04,  1.73306356e+05,\n        1.39900862e+05,  1.94101707e+05, -1.87454936e+04,  1.40179418e+05,\n        1.29820217e+05,  9.36746203e+04,  5.67545585e+04,  1.30346728e+05,\n        3.99669636e+04,  4.21103549e+04,  1.00470069e+05,  2.99270106e+05,\n        1.02175734e+05,  1.23076387e+05,  8.84928062e+02,  4.53187853e+04,\n        5.30707661e+04,  1.47592411e+05,  1.13552521e+04,  1.91537578e+05,\n        1.02491640e+05,  1.43380329e+05,  2.12660384e+05,  6.47309413e+04,\n        2.69692836e+05,  1.70250347e+05,  3.13432874e+04,  1.39058446e+05,\n        9.84528123e+04,  7.04568517e+04,  7.84647769e+04, -6.98738942e+04,\n        1.96821184e+04,  2.32211163e+05,  1.67828400e+05,  7.30921230e+04,\n        5.02005002e+04,  3.17393306e+05,  5.47204981e+04, -7.96332688e+02,\n        1.02632043e+05,  3.61513507e+05,  1.12976233e+05,  2.31176279e+04,\n        1.94628218e+05,  1.06074159e+05,  1.83073344e+05,  4.29527712e+04,\n        1.56655135e+05, -3.92946693e+04,  1.27619995e+04,  8.00443076e+04,\n        2.68883271e+05,  2.07763092e+05,  3.15638272e+05,  6.41342297e+04,\n        2.46615470e+05,  3.13567332e+05,  4.87844541e+04,  3.47347124e+04,\n        2.70289548e+05,  1.35894885e+05,  5.72993660e+04,  1.70636455e+05,\n        1.11889367e+05, -2.34076268e+03,  2.57361249e+05,  2.16020280e+05,\n        2.08117657e+05,  3.43666613e+05,  1.06319864e+05,  1.15558092e+05,\n        4.24387503e+04,  1.73795516e+05,  2.85113284e+05,  1.81699918e+05,\n       -1.28471147e+04,  1.94628218e+05,  3.11153134e+04,  1.97649126e+05,\n        1.52546106e+05,  6.31145308e+04,  1.14224267e+05,  3.60390285e+05,\n        2.04814635e+05,  2.21570687e+05,  1.66349672e+05,  3.27191366e+05,\n        1.27205507e+05,  7.22825577e+04,  1.76607600e+05,  3.51395512e+05,\n       -9.47394383e+03,  1.05875574e+05,  7.92921827e+04,  1.38321331e+05,\n        1.47348955e+05,  2.57244054e+04,  7.75521592e+04,  8.38035860e+04,\n        8.65472607e+04,  9.06788617e+03,  9.80000754e+04, -3.05916995e+02,\n        9.34266659e+04,  1.44924759e+05,  4.17593480e+04,  3.64040756e+05,\n        1.23041287e+05,  5.98145963e+04,  2.59176924e+04,  2.69832022e+04,\n        1.17853905e+05,  6.40644989e+04,  1.02983050e+05,  6.18153351e+04,\n        6.35024175e+04,  1.19208563e+05,  2.78507606e+05,  1.96103038e+03,\n        1.37931195e+05,  2.71553172e+05,  7.99763559e+04, -1.29186384e+04,\n        7.05066914e+04,  2.37059086e+05,  3.02499369e+05,  9.79609322e+04,\n        5.37376790e+04,  4.17593480e+04,  3.13254470e+04,  8.36641771e+04,\n        9.31471162e+04,  1.06778423e+05,  1.70250347e+05,  3.14139593e+04,\n        3.19078139e+05,  4.55542641e+04,  7.73415551e+04,  1.60237654e+05,\n        1.68350358e+05,  1.35649180e+05,  2.71553172e+05,  3.63619548e+05,\n        1.28025583e+05,  5.52821090e+04,  3.07305282e+04,  1.79348173e+05,\n       -1.82553927e+04,  3.04275682e+04,  4.80779412e+04,  2.74039398e+04,\n        5.98496969e+04,  3.11153134e+04,  1.83248848e+05,  6.04464085e+04,\n        1.30487130e+05,  1.04705233e+05,  1.02693806e+04,  4.01452228e+05,\n        6.47309413e+04,  3.54557294e+05,  5.50715049e+04,  2.33441466e+05,\n        1.91642410e+05,  3.77907214e+04,  9.72772295e+04,  7.29823216e+04,\n        2.41313018e+05,  3.35908892e+05,  1.54970303e+05,  1.16241524e+05,\n        1.23778401e+05,  6.83508108e+04,  9.02653549e+04,  2.00634933e+05,\n        1.57473366e+04,  6.31145308e+04,  3.13567332e+05,  2.16055381e+05,\n        1.45802276e+05,  1.86932640e+05,  1.89220463e+05,  1.86980435e+04,\n        2.78472506e+05,  7.71834216e+04,  6.12577667e+04,  8.78083072e+04,\n        6.07419529e+04, -5.11952448e+03,  8.47500486e+04,  1.66750048e+05,\n        2.19987128e+05,  1.83315020e+05, -2.39820309e+03,  2.35723481e+05,\n        8.90426526e+04,  4.19649295e+04, -3.38233083e+03,  1.78400454e+05,\n        1.32733574e+05,  6.22721145e+04,  5.73886204e+04,  4.08441763e+05,\n        1.09130168e+05,  1.78082299e+05,  1.83833931e+04,  1.93468116e+05,\n        1.28100284e+05,  1.03088352e+05,  2.25106766e+04,  1.69826890e+05,\n        9.22003917e+04,  2.90541424e+04,  6.92430668e+04,  1.12675337e+05,\n        4.48682981e+04,  1.74344189e+04,  2.03337686e+05,  9.24811971e+04,\n        2.00775336e+05,  1.51738790e+05,  8.65472607e+04,  1.29504311e+05,\n        3.16209914e+04,  1.50260533e+05,  4.10056394e+05,  4.57284452e+04,\n        5.61600966e+04,  1.43059590e+04,  1.93397915e+05,  6.90177238e+04,\n        1.24585717e+05,  1.47840365e+05,  1.93678720e+05,  1.33646192e+05,\n        5.31615570e+03,  8.71205620e+04,  4.92771860e+04,  3.48084858e+04,\n        2.68606494e+05,  2.81844421e+05,  2.85078183e+05,  2.64072228e+05,\n        2.03407887e+05,  1.76292164e+05,  5.58090898e+04, -2.63330487e+04,\n        3.18694281e+05,  2.55957221e+05,  8.87618472e+04,  5.84825632e+04,\n        1.54338490e+05, -9.26816751e+03, -2.19777912e+04,  1.53685846e+05,\n        1.15242186e+05,  1.42409528e+05,  1.12186177e+05,  7.05066914e+04,\n        1.65893834e+05,  6.31145308e+04,  3.00393328e+05,  3.21843815e+04,\n        1.11203358e+05,  3.54344764e+04, -3.00866948e+03,  1.02295305e+05,\n        2.15607086e+04,  1.83915761e+05,  4.82223727e+04,  5.57033172e+04])"
     },
     "execution_count": 127,
     "metadata": {},
     "output_type": "execute_result"
    }
   ],
   "source": [
    "predictions = model.predict(X_test_scaled)\n",
    "predictions\n"
   ],
   "metadata": {
    "collapsed": false
   }
  },
  {
   "cell_type": "code",
   "execution_count": 128,
   "outputs": [
    {
     "data": {
      "text/plain": "608     173333.33\n1959     16666.67\n1040    130000.00\n1193    131666.67\n802     115000.00\n          ...    \n3069     66666.67\n1634     89800.00\n28       21000.00\n945      62666.67\n2373     40000.00\nName: Price(USD), Length: 964, dtype: float64"
     },
     "execution_count": 128,
     "metadata": {},
     "output_type": "execute_result"
    }
   ],
   "source": [
    "y_test"
   ],
   "metadata": {
    "collapsed": false
   }
  },
  {
   "cell_type": "code",
   "execution_count": 128,
   "outputs": [],
   "source": [],
   "metadata": {
    "collapsed": false
   }
  },
  {
   "cell_type": "code",
   "execution_count": 128,
   "outputs": [],
   "source": [],
   "metadata": {
    "collapsed": false
   }
  },
  {
   "cell_type": "code",
   "execution_count": null,
   "outputs": [],
   "source": [],
   "metadata": {
    "collapsed": false
   }
  }
 ],
 "metadata": {
  "kernelspec": {
   "display_name": "Python 3",
   "language": "python",
   "name": "python3"
  },
  "language_info": {
   "codemirror_mode": {
    "name": "ipython",
    "version": 2
   },
   "file_extension": ".py",
   "mimetype": "text/x-python",
   "name": "python",
   "nbconvert_exporter": "python",
   "pygments_lexer": "ipython2",
   "version": "2.7.6"
  }
 },
 "nbformat": 4,
 "nbformat_minor": 0
}
